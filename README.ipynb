{
 "cells": [
  {
   "cell_type": "markdown",
   "id": "57cb1a67-ed25-4d1d-a4f4-d9e7c6042c77",
   "metadata": {},
   "source": [
    "# rust-egui-seven-tasks - doing the classic seven tasks for guis"
   ]
  },
  {
   "cell_type": "markdown",
   "id": "7a448b78-8ce5-4a31-98d1-5f6ffbbbac97",
   "metadata": {},
   "source": [
    "## The 7 Tasks"
   ]
  },
  {
   "cell_type": "markdown",
   "id": "738ad972-8d8d-4822-b930-b1f522c29a07",
   "metadata": {},
   "source": [
    "Eugen Kiss has defined 7 tasks that you should accomplish in the gui of your choice so that you really get to know them.\n",
    "\n",
    "https://eugenkiss.github.io/7guis/tasks/\n",
    "\n",
    "I decided to go this way with Rust and egui(https://github.com/emilk/egui)."
   ]
  },
  {
   "cell_type": "markdown",
   "id": "9365930e-73eb-48ce-84fa-963d46546a7c",
   "metadata": {},
   "source": [
    "## task 1 .. first.rs"
   ]
  },
  {
   "cell_type": "markdown",
   "id": "279e6931-bd49-408f-866f-9fd962051f6e",
   "metadata": {},
   "source": [
    "A simple counter"
   ]
  },
  {
   "cell_type": "markdown",
   "id": "abf289b8-83de-4937-bdbf-abd061adb7fd",
   "metadata": {},
   "source": [
    "<img src=\"img/task1.gif\" width=\"320\" align=\"left\"><br><br><br><br><br><br><br><br><br><br><br><br><br><br>"
   ]
  },
  {
   "cell_type": "markdown",
   "id": "ae9e540f-df3f-4087-a62f-fa3c0869d894",
   "metadata": {},
   "source": [
    "## task 2 .. second.rs"
   ]
  },
  {
   "cell_type": "markdown",
   "id": "83ace09a-7ff6-4175-8512-1da076e4d4a7",
   "metadata": {},
   "source": [
    "Temperature Converter"
   ]
  },
  {
   "cell_type": "markdown",
   "id": "89e1157c-8da9-4857-9262-a06c9eefc58a",
   "metadata": {},
   "source": [
    "<img src=\"img/task2.gif\" width=\"400\" align=\"left\"><br><br><br><br><br><br><br><br><br><br><br><br><br><br>"
   ]
  },
  {
   "cell_type": "markdown",
   "id": "fb82166f-5c74-4d9f-be4b-0111d558bafa",
   "metadata": {},
   "source": [
    "## task 3 .. third.rs"
   ]
  },
  {
   "cell_type": "markdown",
   "id": "923e45ab-53b7-4402-8c60-00d1d7b2f634",
   "metadata": {},
   "source": [
    "Flight Booker"
   ]
  },
  {
   "cell_type": "markdown",
   "id": "9c559215-22ac-4af7-8079-bbfaae920c41",
   "metadata": {},
   "source": [
    "<img src=\"img/task3.gif\" width=\"400\" align=\"left\"><br><br><br><br><br><br><br><br><br><br><br><br><br><br>"
   ]
  },
  {
   "cell_type": "markdown",
   "id": "e6708151-55c3-4e07-b95c-9e315d9318b7",
   "metadata": {},
   "source": [
    "## task 4 .. fourth.rs"
   ]
  },
  {
   "cell_type": "markdown",
   "id": "f54d2c82-cdba-4fd5-8e34-34cc703a1033",
   "metadata": {},
   "source": [
    "Timer"
   ]
  },
  {
   "cell_type": "markdown",
   "id": "72ef17af-eb10-4469-9eee-086cc0ecc4d1",
   "metadata": {},
   "source": [
    "<img src=\"img/task4.gif\" width=\"400\" align=\"left\"><br><br><br><br><br><br><br><br><br><br><br><br><br><br>"
   ]
  },
  {
   "cell_type": "markdown",
   "id": "5dff80c2-a824-4a12-ad3c-50044e1bc9bf",
   "metadata": {},
   "source": [
    "## task 5 .. fifth.rs"
   ]
  },
  {
   "cell_type": "markdown",
   "id": "d234fd54-bf2c-4da8-8604-6198895ea842",
   "metadata": {},
   "source": [
    "CRUD"
   ]
  },
  {
   "cell_type": "markdown",
   "id": "5c9ac51f-e441-4076-a0ab-031e4186e1d8",
   "metadata": {},
   "source": [
    "<img src=\"img/task5.gif\" width=\"400\" align=\"left\"><br><br><br><br><br><br><br><br><br><br><br><br><br><br>"
   ]
  },
  {
   "cell_type": "code",
   "execution_count": null,
   "id": "f94d5d29-c492-40de-bd2b-2c2efbc4ab06",
   "metadata": {},
   "outputs": [],
   "source": []
  }
 ],
 "metadata": {
  "kernelspec": {
   "display_name": "Rust",
   "language": "rust",
   "name": "rust"
  },
  "language_info": {
   "codemirror_mode": "rust",
   "file_extension": ".rs",
   "mimetype": "text/rust",
   "name": "Rust",
   "pygment_lexer": "rust",
   "version": ""
  }
 },
 "nbformat": 4,
 "nbformat_minor": 5
}
